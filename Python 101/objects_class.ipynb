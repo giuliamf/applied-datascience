{
 "cells": [
  {
   "cell_type": "markdown",
   "id": "045c2cbe",
   "metadata": {},
   "source": [
    "## Module 3: Object and Classes\n",
    "### I saved this one because I'd like to practice my knowledge of this topic."
   ]
  },
  {
   "cell_type": "markdown",
   "id": "58a87de2",
   "metadata": {},
   "source": [
    "You will need the class Car for the next exercises. The class Car has four data attributes: make, model, colour and number of owners (owner_number). The method <code> car_info() </code>  prints out the data attributes and the method <code>sell()</code> increments the number of owners by 1."
   ]
  },
  {
   "cell_type": "code",
   "execution_count": 17,
   "id": "c0aa7cdf",
   "metadata": {},
   "outputs": [],
   "source": [
    "class Car(object):\n",
    "    def __init__(self,make,model,color):\n",
    "        self.make=make;\n",
    "        self.model=model;\n",
    "        self.color=color;\n",
    "        self.owner_number=0 \n",
    "    def car_info(self):\n",
    "        print(\"make: \",self.make)\n",
    "        print(\"model:\", self.model)\n",
    "        print(\"color:\",self.color)\n",
    "        print(\"number of owners:\",self.owner_number)\n",
    "    def sell(self):\n",
    "        self.owner_number=self.owner_number+1"
   ]
  },
  {
   "cell_type": "markdown",
   "id": "a83ec3bb",
   "metadata": {},
   "source": [
    "<h3> Create a Car Object </h3>\n"
   ]
  },
  {
   "cell_type": "markdown",
   "id": "356ad06a",
   "metadata": {},
   "source": [
    "Create a <code> Car </code> object \"my_car\" with the given data attributes: \n"
   ]
  },
  {
   "cell_type": "code",
   "execution_count": 18,
   "id": "caf096f2",
   "metadata": {},
   "outputs": [],
   "source": [
    "make=\"BMW\"\n",
    "model=\"M3\"\n",
    "color=\"red\""
   ]
  },
  {
   "cell_type": "code",
   "execution_count": 19,
   "id": "e2ff0ddf",
   "metadata": {},
   "outputs": [],
   "source": [
    "my_car = Car(make, model, color)"
   ]
  },
  {
   "cell_type": "markdown",
   "id": "a1b6255b",
   "metadata": {},
   "source": [
    "<h3> Data Attributes </h3>\n"
   ]
  },
  {
   "cell_type": "markdown",
   "id": "cb48af03",
   "metadata": {},
   "source": [
    "Use the method `car_info()` to print out the data attributes.\n"
   ]
  },
  {
   "cell_type": "code",
   "execution_count": 20,
   "id": "6bee840c",
   "metadata": {},
   "outputs": [
    {
     "name": "stdout",
     "output_type": "stream",
     "text": [
      "make:  BMW\n",
      "model: M3\n",
      "color: red\n",
      "number of owners: 0\n"
     ]
    }
   ],
   "source": [
    "my_car.car_info()"
   ]
  },
  {
   "cell_type": "markdown",
   "id": "4b57a285",
   "metadata": {},
   "source": [
    "<h3> Methods  </h3>\n"
   ]
  },
  {
   "cell_type": "markdown",
   "id": "68b9553c",
   "metadata": {},
   "source": [
    "Call the method <code> sell() </code> in the loop, then call the method <code> car_info()</code> again \n"
   ]
  },
  {
   "cell_type": "code",
   "execution_count": 21,
   "id": "2fd6a08f",
   "metadata": {},
   "outputs": [
    {
     "name": "stdout",
     "output_type": "stream",
     "text": [
      "make:  BMW\n",
      "model: M3\n",
      "color: red\n",
      "number of owners: 5\n"
     ]
    }
   ],
   "source": [
    "for i in range(5):\n",
    "    my_car.sell()\n",
    "    \n",
    "my_car.car_info()"
   ]
  }
 ],
 "metadata": {
  "kernelspec": {
   "display_name": "Python 3",
   "language": "python",
   "name": "python3"
  },
  "language_info": {
   "codemirror_mode": {
    "name": "ipython",
    "version": 3
   },
   "file_extension": ".py",
   "mimetype": "text/x-python",
   "name": "python",
   "nbconvert_exporter": "python",
   "pygments_lexer": "ipython3",
   "version": "3.13.5"
  }
 },
 "nbformat": 4,
 "nbformat_minor": 5
}
